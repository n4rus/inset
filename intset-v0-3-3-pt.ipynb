{
 "cells": [
  {
   "cell_type": "code",
   "execution_count": 1,
   "id": "cellular-williams",
   "metadata": {},
   "outputs": [],
   "source": [
    "#!/bin/env python"
   ]
  },
  {
   "cell_type": "code",
   "execution_count": 2,
   "id": "simplified-cutting",
   "metadata": {},
   "outputs": [],
   "source": [
    "import random\n",
    "import operator\n",
    "from random import choice\n",
    "from collections import Counter\n",
    "from itertools import chain"
   ]
  },
  {
   "cell_type": "markdown",
   "id": "narrow-developer",
   "metadata": {},
   "source": [
    "# Lotery Intset\n",
    "### This code is intended to simulate numbers in lotery tickets and their pronability of winning"
   ]
  },
  {
   "cell_type": "code",
   "execution_count": 4,
   "id": "offensive-external",
   "metadata": {},
   "outputs": [
    {
     "name": "stdout",
     "output_type": "stream",
     "text": [
      "Digite o intervalo de numeros presentes no bilhete(Ex. Inicial: 1, Final: 60 [1-60])\n",
      "Numero inicial:\n",
      "1\n",
      "Numero final:\n",
      "60\n",
      "Intervalo de numeros no bilhete: [ 1 - 60 ] \n",
      "\n",
      "Digite o intervalo de numeros em cada aposta:\n",
      "Numero inicial:\n",
      "1\n",
      "Numero final:\n",
      "6\n",
      "Intervalo de numeros no bilhete: [ 1 - 6 ] \n",
      "\n",
      "Digite a quantidade de apostas por rodada de teste:\n",
      "100\n"
     ]
    }
   ],
   "source": [
    "print(\"Digite o intervalo de numeros presentes no bilhete(Ex. Inicial: 1, Final: 60 [1-60])\")\n",
    "\n",
    "#initial integer on the set)\n",
    "print(\"Numero inicial:\")\n",
    "nln=input()\n",
    "nli=int(nln)\n",
    "\n",
    "#number of integers in the following set (end)\n",
    "print(\"Numero final:\")\n",
    "inlist=input()\n",
    "nlist=int(inlist)\n",
    "\n",
    "#range:\n",
    "print(\"Intervalo de numeros no bilhete: [\", nln, \"-\", inlist, \"] \\n\")\n",
    "\n",
    "\n",
    "#loop counter\n",
    "#print(\"Set the amount of integers to be drawn on each round:\")\n",
    "#amount of integers in each bet:\n",
    "print(\"Digite o intervalo de numeros em cada aposta:\")\n",
    "#n=0\n",
    "print(\"Numero inicial:\")\n",
    "ni=input()\n",
    "n=int(ni)\n",
    "\n",
    "#un=6\n",
    "print(\"Numero final:\")\n",
    "uni=input()\n",
    "un=int(uni)\n",
    "\n",
    "#betrange\n",
    "print(\"Intervalo de numeros no bilhete: [\", ni, \"-\", uni, \"] \\n\")\n",
    "#number of tests to be done\n",
    "#tests = 10000\n",
    "print(\"Digite a quantidade de apostas por rodada de teste:\")\n",
    "Tests = input()\n",
    "tests = int(Tests)"
   ]
  },
  {
   "cell_type": "code",
   "execution_count": 5,
   "id": "imperial-saint",
   "metadata": {},
   "outputs": [],
   "source": [
    "#loop to random select numbers from intlist and append them to intset\n",
    "def setmaker(nli, inlist, un, n):\n",
    "    #number of integers in the following set\n",
    "    nlist=int(inlist)\n",
    "    \n",
    "    #integers counter for the following set\n",
    "    nl=int(nli)\n",
    "\n",
    "    #set of integers\n",
    "    mainlist=[]\n",
    "\n",
    "    #set construction\n",
    "    while nl <= nlist:\n",
    "        if nl <= nlist:\n",
    "            i=int(nl)\n",
    "            mainlist.append(i)\n",
    "            nl=nl+1\n",
    "        if nl > nlist:\n",
    "            break\n",
    "            return mainlist\n",
    "            print(mainlist)    \n",
    "    #loop counter\n",
    "    #n=0\n",
    "    #un=6\n",
    "    #create a new list to manipulate on the while\n",
    "    intlist=mainlist\n",
    "    intset=[]\n",
    "    #loop to choose numbers and remove then from the next draw\n",
    "    while n <= un:\n",
    "        if n <= un:\n",
    "            choice = random.choice(intlist)\n",
    "            intset.append(choice)\n",
    "            intlist.remove(choice)\n",
    "            n=n+1\n",
    "        if n > un:\n",
    "            return mainlist\n",
    "            print(intset)\n",
    "            break"
   ]
  },
  {
   "cell_type": "code",
   "execution_count": 6,
   "id": "tropical-scottish",
   "metadata": {},
   "outputs": [
    {
     "name": "stdout",
     "output_type": "stream",
     "text": [
      "Alcance do intervalo: [1, 3, 4, 5, 6, 7, 8, 9, 10, 11, 12, 13, 16, 17, 18, 19, 20, 21, 22, 24, 25, 26, 27, 29, 30, 31, 32, 33, 34, 35, 36, 37, 38, 40, 41, 42, 43, 44, 45, 46, 47, 48, 49, 50, 51, 52, 53, 54, 55, 56, 57, 58, 59, 60]\n"
     ]
    }
   ],
   "source": [
    "#print set to verify the function\n",
    "print(\"Alcance do intervalo:\", setmaker(nli, inlist, un, n), end='\\n')"
   ]
  },
  {
   "cell_type": "code",
   "execution_count": 7,
   "id": "theoretical-survey",
   "metadata": {},
   "outputs": [],
   "source": [
    "#define a function to make a sequence of sets and append them to a dictionary\n",
    "def testsets(tn):\n",
    "    #set the number of tests to run\n",
    "    testn=tn\n",
    "    \n",
    "    #set the algorithm to take averages\n",
    "    ntest=0\n",
    "\n",
    "    setofsets=[]\n",
    "    ni = 0\n",
    "    while ntest <testn:\n",
    "        if ntest < testn:\n",
    "            nlist=setmaker(nli, inlist, un, n)\n",
    "            setofsets.append(nlist)\n",
    "            ni=ni+1\n",
    "            ntest=ntest+1\n",
    "        if ntest == testn:\n",
    "            return setofsets\n",
    "            break"
   ]
  },
  {
   "cell_type": "code",
   "execution_count": 8,
   "id": "distributed-killing",
   "metadata": {},
   "outputs": [],
   "source": [
    "#set the testsets to other variable to be handled\n",
    "tst = testsets(tests)\n",
    "#print(tst)"
   ]
  },
  {
   "cell_type": "code",
   "execution_count": 9,
   "id": "abandoned-joshua",
   "metadata": {},
   "outputs": [],
   "source": [
    "#define a function to take a probability average from the tests obtained with testsets \n",
    "def avg(tst):\n",
    "    n=0\n",
    "    avgcd= {}\n",
    "    while n <= 60:\n",
    "        for i in tst:\n",
    "            for a in i:\n",
    "                counts = {a:i.count(i) for a in i}\n",
    "                n=n+1\n",
    "    count = Counter(chain.from_iterable(tst))\n",
    "#    print(\"Count occurrence keys:\",count)        \n",
    "    return count"
   ]
  },
  {
   "cell_type": "code",
   "execution_count": 11,
   "id": "reflected-indian",
   "metadata": {},
   "outputs": [],
   "source": [
    "#sort results to in descent order\n",
    "def testtests(tn):\n",
    "    #number of set of tests to run\n",
    "    print(\"Digite o numero de rodadas de testes:\")\n",
    "    avgn=input()\n",
    "    avgn=int(avgn)\n",
    "    ni=0\n",
    "    #set of sets of range  = tests\n",
    "    setfsets=[]\n",
    "    #loop to compose a set made of tests * avgn\n",
    "    print(\"Numero total de apostas: \" + str(tn*avgn))\n",
    "    print(\"Inicializando calculos...\")\n",
    "    while ni < avgn:\n",
    "        setfsets.append(testsets(tests))\n",
    "        ni=ni+1\n",
    "    if ni == avgn:\n",
    "        na=[]\n",
    "        #creates a set composed of all numbers on the larger set\n",
    "        for i in setfsets:\n",
    "            for a in i:\n",
    "                na.append(a)\n",
    "        avgc=avg(na)\n",
    "        sorted_d = dict( sorted(avgc.items(), key=operator.itemgetter(1),reverse=True))\n",
    "        print('Media de Numeros sorteados ordernados de modo decrescente : ',sorted_d)"
   ]
  },
  {
   "cell_type": "code",
   "execution_count": 12,
   "id": "historical-certificate",
   "metadata": {},
   "outputs": [
    {
     "name": "stdout",
     "output_type": "stream",
     "text": [
      "Digite o numero de rodadas de testes:\n",
      "10\n",
      "Numero total de apostas: 1000\n",
      "Inicializando calculos...\n",
      "Media de Numeros sorteados ordernados de modo decrescente :  {1: 918, 34: 916, 15: 916, 41: 915, 25: 914, 33: 914, 17: 912, 10: 911, 26: 911, 47: 911, 21: 910, 46: 910, 54: 910, 24: 909, 14: 908, 37: 908, 5: 907, 55: 906, 30: 905, 32: 905, 13: 903, 19: 903, 20: 903, 35: 903, 53: 903, 16: 903, 4: 902, 28: 902, 29: 901, 7: 900, 27: 900, 48: 900, 57: 899, 51: 898, 60: 897, 9: 896, 12: 896, 22: 895, 38: 895, 43: 895, 45: 895, 59: 895, 40: 894, 50: 894, 56: 894, 3: 893, 2: 892, 23: 891, 49: 891, 6: 890, 31: 890, 39: 890, 58: 890, 42: 890, 44: 889, 36: 885, 8: 884, 11: 882, 18: 881, 52: 880}\n"
     ]
    }
   ],
   "source": [
    "testtests(tests)"
   ]
  },
  {
   "cell_type": "code",
   "execution_count": null,
   "id": "continent-award",
   "metadata": {},
   "outputs": [],
   "source": []
  },
  {
   "cell_type": "code",
   "execution_count": null,
   "id": "educated-remains",
   "metadata": {},
   "outputs": [],
   "source": []
  }
 ],
 "metadata": {
  "kernelspec": {
   "display_name": "Python 3",
   "language": "python",
   "name": "python3"
  },
  "language_info": {
   "codemirror_mode": {
    "name": "ipython",
    "version": 3
   },
   "file_extension": ".py",
   "mimetype": "text/x-python",
   "name": "python",
   "nbconvert_exporter": "python",
   "pygments_lexer": "ipython3",
   "version": "3.9.7"
  }
 },
 "nbformat": 4,
 "nbformat_minor": 5
}
