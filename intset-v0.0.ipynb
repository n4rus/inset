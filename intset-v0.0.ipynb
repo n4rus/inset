{
 "cells": [
  {
   "cell_type": "code",
   "execution_count": 45,
   "id": "spread-wrestling",
   "metadata": {},
   "outputs": [],
   "source": [
    "#!/bin/env python"
   ]
  },
  {
   "cell_type": "code",
   "execution_count": 46,
   "id": "small-operator",
   "metadata": {},
   "outputs": [],
   "source": [
    "import random\n",
    "from random import choice"
   ]
  },
  {
   "cell_type": "code",
   "execution_count": 71,
   "id": "thousand-craps",
   "metadata": {},
   "outputs": [
    {
     "name": "stdout",
     "output_type": "stream",
     "text": [
      "[1, 2, 3, 4, 5, 6, 7, 8, 9, 10, 11, 12, 13, 14, 15, 16, 17, 18, 19, 20, 21, 22, 23, 24, 25, 26, 27, 28, 29, 30, 31, 32, 33, 34, 35, 36, 37, 38, 39, 40, 41, 42, 43, 44, 45, 46, 47, 48, 49, 50, 51, 52, 53, 54, 55, 56, 57, 58, 59]\n"
     ]
    }
   ],
   "source": [
    "#number of integers in the following set\n",
    "nlist=60\n",
    "\n",
    "#integers counter for the following set\n",
    "nl=1\n",
    "\n",
    "#set of integers\n",
    "mainlist=[]\n",
    "\n",
    "#set construction\n",
    "while nl < nlist:\n",
    "    if nl <= nlist:\n",
    "        i=int(nl)\n",
    "        mainlist.append(i)\n",
    "        nl=nl+1\n",
    "    if nl > nlist:\n",
    "        break\n",
    "print(mainlist)    "
   ]
  },
  {
   "cell_type": "code",
   "execution_count": 65,
   "id": "comprehensive-medium",
   "metadata": {},
   "outputs": [],
   "source": [
    "#desired integers tested\n",
    "n=0\n",
    "#amount of desired integers\n",
    "un=6"
   ]
  },
  {
   "cell_type": "code",
   "execution_count": 63,
   "id": "fixed-tucson",
   "metadata": {},
   "outputs": [
    {
     "name": "stdout",
     "output_type": "stream",
     "text": [
      "[18, 16, 3, 34, 29, 45]\n"
     ]
    }
   ],
   "source": [
    "#create a neww list to manipulate on the while\n",
    "intlist=mainlist\n",
    "intset=[]\n",
    "\n",
    "#loop to random select numbers from intlist and append them to intset\n",
    "while n < un:\n",
    "    if n <= un:\n",
    "        choice = random.choice(intlist)\n",
    "        intset.append(choice)\n",
    "        intlist.remove(choice)\n",
    "        n=n+1\n",
    "    if n > un:\n",
    "        break\n",
    "print(intset)"
   ]
  },
  {
   "cell_type": "code",
   "execution_count": 73,
   "id": "structured-trailer",
   "metadata": {},
   "outputs": [
    {
     "ename": "IndexError",
     "evalue": "list index out of range",
     "output_type": "error",
     "traceback": [
      "\u001b[0;31m---------------------------------------------------------------------------\u001b[0m",
      "\u001b[0;31mIndexError\u001b[0m                                Traceback (most recent call last)",
      "\u001b[0;32m<ipython-input-73-67c7f1bef869>\u001b[0m in \u001b[0;36m<module>\u001b[0;34m\u001b[0m\n\u001b[1;32m     18\u001b[0m             \u001b[0miilist\u001b[0m \u001b[0;34m=\u001b[0m \u001b[0mmainlist\u001b[0m\u001b[0;34m\u001b[0m\u001b[0;34m\u001b[0m\u001b[0m\n\u001b[1;32m     19\u001b[0m             \u001b[0;32mif\u001b[0m \u001b[0mni\u001b[0m \u001b[0;34m<=\u001b[0m \u001b[0mnii\u001b[0m\u001b[0;34m:\u001b[0m\u001b[0;34m\u001b[0m\u001b[0;34m\u001b[0m\u001b[0m\n\u001b[0;32m---> 20\u001b[0;31m                 \u001b[0mchoice\u001b[0m \u001b[0;34m=\u001b[0m \u001b[0mrandom\u001b[0m\u001b[0;34m.\u001b[0m\u001b[0mchoice\u001b[0m\u001b[0;34m(\u001b[0m\u001b[0miilist\u001b[0m\u001b[0;34m)\u001b[0m\u001b[0;34m\u001b[0m\u001b[0;34m\u001b[0m\u001b[0m\n\u001b[0m\u001b[1;32m     21\u001b[0m                 \u001b[0mintset\u001b[0m\u001b[0;34m.\u001b[0m\u001b[0mappend\u001b[0m\u001b[0;34m(\u001b[0m\u001b[0mchoice\u001b[0m\u001b[0;34m)\u001b[0m\u001b[0;34m\u001b[0m\u001b[0;34m\u001b[0m\u001b[0m\n\u001b[1;32m     22\u001b[0m                 \u001b[0miilist\u001b[0m\u001b[0;34m.\u001b[0m\u001b[0mremove\u001b[0m\u001b[0;34m(\u001b[0m\u001b[0mchoice\u001b[0m\u001b[0;34m)\u001b[0m\u001b[0;34m\u001b[0m\u001b[0;34m\u001b[0m\u001b[0m\n",
      "\u001b[0;32m/usr/lib/python3.9/random.py\u001b[0m in \u001b[0;36mchoice\u001b[0;34m(self, seq)\u001b[0m\n\u001b[1;32m    344\u001b[0m         \u001b[0;34m\"\"\"Choose a random element from a non-empty sequence.\"\"\"\u001b[0m\u001b[0;34m\u001b[0m\u001b[0;34m\u001b[0m\u001b[0m\n\u001b[1;32m    345\u001b[0m         \u001b[0;31m# raises IndexError if seq is empty\u001b[0m\u001b[0;34m\u001b[0m\u001b[0;34m\u001b[0m\u001b[0m\n\u001b[0;32m--> 346\u001b[0;31m         \u001b[0;32mreturn\u001b[0m \u001b[0mseq\u001b[0m\u001b[0;34m[\u001b[0m\u001b[0mself\u001b[0m\u001b[0;34m.\u001b[0m\u001b[0m_randbelow\u001b[0m\u001b[0;34m(\u001b[0m\u001b[0mlen\u001b[0m\u001b[0;34m(\u001b[0m\u001b[0mseq\u001b[0m\u001b[0;34m)\u001b[0m\u001b[0;34m)\u001b[0m\u001b[0;34m]\u001b[0m\u001b[0;34m\u001b[0m\u001b[0;34m\u001b[0m\u001b[0m\n\u001b[0m\u001b[1;32m    347\u001b[0m \u001b[0;34m\u001b[0m\u001b[0m\n\u001b[1;32m    348\u001b[0m     \u001b[0;32mdef\u001b[0m \u001b[0mshuffle\u001b[0m\u001b[0;34m(\u001b[0m\u001b[0mself\u001b[0m\u001b[0;34m,\u001b[0m \u001b[0mx\u001b[0m\u001b[0;34m,\u001b[0m \u001b[0mrandom\u001b[0m\u001b[0;34m=\u001b[0m\u001b[0;32mNone\u001b[0m\u001b[0;34m)\u001b[0m\u001b[0;34m:\u001b[0m\u001b[0;34m\u001b[0m\u001b[0;34m\u001b[0m\u001b[0m\n",
      "\u001b[0;31mIndexError\u001b[0m: list index out of range"
     ]
    }
   ],
   "source": [
    "#set the number of tests to run\n",
    "testn=100\n",
    "\n",
    "#set the algorithm to take averages\n",
    "ntest=0\n",
    "\n",
    "#set groups\n",
    "intsets = []\n",
    "\n",
    "while ntest < testn:\n",
    "    #set for the loop\n",
    "    intset=[]\n",
    "    if ntest <= testn:\n",
    "        ni=0\n",
    "        nii=6\n",
    "        while ni <= nii:\n",
    "            #set intlist for the loop\n",
    "            iilist = mainlist\n",
    "            if ni <= nii:\n",
    "                choice = random.choice(iilist)\n",
    "                intset.append(choice)\n",
    "                iilist.remove(choice)\n",
    "                n=n+1\n",
    "            if ni > nii:\n",
    "                intsets.append(intset)\n",
    "                ntest=ntest+1\n",
    "    if ntest > testn:\n",
    "        print(intsets)\n",
    "        break"
   ]
  },
  {
   "cell_type": "code",
   "execution_count": 55,
   "id": "identical-prescription",
   "metadata": {},
   "outputs": [
    {
     "name": "stdout",
     "output_type": "stream",
     "text": [
      "[]\n"
     ]
    }
   ],
   "source": [
    "print(ilist)"
   ]
  },
  {
   "cell_type": "code",
   "execution_count": null,
   "id": "christian-reservoir",
   "metadata": {},
   "outputs": [],
   "source": []
  }
 ],
 "metadata": {
  "kernelspec": {
   "display_name": "Python 3",
   "language": "python",
   "name": "python3"
  },
  "language_info": {
   "codemirror_mode": {
    "name": "ipython",
    "version": 3
   },
   "file_extension": ".py",
   "mimetype": "text/x-python",
   "name": "python",
   "nbconvert_exporter": "python",
   "pygments_lexer": "ipython3",
   "version": "3.9.7"
  }
 },
 "nbformat": 4,
 "nbformat_minor": 5
}
