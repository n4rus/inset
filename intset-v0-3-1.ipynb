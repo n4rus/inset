{
 "cells": [
  {
   "cell_type": "code",
   "execution_count": 1,
   "id": "cellular-williams",
   "metadata": {},
   "outputs": [],
   "source": [
    "#!/bin/env python"
   ]
  },
  {
   "cell_type": "code",
   "execution_count": 1,
   "id": "simplified-cutting",
   "metadata": {},
   "outputs": [],
   "source": [
    "import random\n",
    "import operator\n",
    "from random import choice\n",
    "from collections import Counter\n",
    "from itertools import chain"
   ]
  },
  {
   "cell_type": "markdown",
   "id": "narrow-developer",
   "metadata": {},
   "source": [
    "# Lotery Intset\n",
    "### This code is intended to simulate numbers in lotery tickets and their pronability of winning"
   ]
  },
  {
   "cell_type": "code",
   "execution_count": 12,
   "id": "tested-cologne",
   "metadata": {},
   "outputs": [
    {
     "name": "stdout",
     "output_type": "stream",
     "text": [
      "Set the amount of integers to be drawn on each round:\n",
      "6\n"
     ]
    }
   ],
   "source": [
    "#desired integers tested leave as zero\n",
    "n=0\n",
    "#amount of desired integers in the ticket\n",
    "print(\"Set the amount of integers to be drawn on each round:\")\n",
    "uni=input()\n",
    "#un=6 for mega-sena\n",
    "un=int(uni)"
   ]
  },
  {
   "cell_type": "code",
   "execution_count": 36,
   "id": "usual-incidence",
   "metadata": {},
   "outputs": [
    {
     "name": "stdout",
     "output_type": "stream",
     "text": [
      "Type the interval range of numbers on the selected ticket. \n",
      "\n",
      "Start number:\n",
      "1\n",
      "End number:\n",
      "60\n"
     ]
    }
   ],
   "source": [
    "print(\"Type the interval range of numbers on the selected ticket. \\n\")\n",
    "\n",
    "print(\"Start number:\")\n",
    "nln=input()\n",
    "nli=int(nln)\n",
    "\n",
    "print(\"End number:\")\n",
    "inlist=input()\n",
    "nlist=int(inlist)"
   ]
  },
  {
   "cell_type": "code",
   "execution_count": 34,
   "id": "imperial-saint",
   "metadata": {},
   "outputs": [],
   "source": [
    "#loop to random select numbers from intlist and append them to intset\n",
    "def setmaker():\n",
    "    #number of integers in the following set\n",
    "    nlist=60\n",
    "    \n",
    "    #integers counter for the following set\n",
    "    nl=1\n",
    "\n",
    "    #set of integers\n",
    "    mainlist=[]\n",
    "\n",
    "    #set construction\n",
    "    while nl < nlist:\n",
    "        if nl <= nlist:\n",
    "            i=int(nl)\n",
    "            mainlist.append(i)\n",
    "            nl=nl+1\n",
    "        if nl > nlist:\n",
    "            break\n",
    "            return mainlist\n",
    "            print(mainlist)    \n",
    "    #loop counter\n",
    "    n=0\n",
    "    un=6\n",
    "    #create a new list to manipulate on the while\n",
    "    intlist=mainlist\n",
    "    intset=[]\n",
    "    #loop to choose numbers and remove then from the next draw\n",
    "    while n <= un:\n",
    "        if n <= un:\n",
    "            choice = random.choice(intlist)\n",
    "            intset.append(choice)\n",
    "            intlist.remove(choice)\n",
    "            n=n+1\n",
    "        if n > un:\n",
    "            return mainlist\n",
    "            print(intset)\n",
    "            break"
   ]
  },
  {
   "cell_type": "code",
   "execution_count": null,
   "id": "tropical-scottish",
   "metadata": {},
   "outputs": [],
   "source": [
    "#print set to verify the function\n",
    "print(\"Interval range:\", setmaker(), end='\\n')"
   ]
  },
  {
   "cell_type": "code",
   "execution_count": 32,
   "id": "theoretical-survey",
   "metadata": {},
   "outputs": [],
   "source": [
    "#define a function to make a sequence of sets and append them to a dictionary\n",
    "def testsets(tn):\n",
    "    #set the number of tests to run\n",
    "    testn=tn\n",
    "    \n",
    "    #set the algorithm to take averages\n",
    "    ntest=0\n",
    "\n",
    "    setofsets=[]\n",
    "    ni = 0\n",
    "    while ntest <testn:\n",
    "        if ntest < testn:\n",
    "            nlist=setmaker()\n",
    "            setofsets.append(nlist)\n",
    "            ni=ni+1\n",
    "            ntest=ntest+1\n",
    "        if ntest == testn:\n",
    "            return setofsets\n",
    "            break"
   ]
  },
  {
   "cell_type": "code",
   "execution_count": 33,
   "id": "distributed-killing",
   "metadata": {},
   "outputs": [
    {
     "name": "stdout",
     "output_type": "stream",
     "text": [
      "Type the number of tests to run at each round:\n",
      "100\n",
      "Type the interval range of numbers on the selected ticket. \n",
      "\n",
      "Start number:\n",
      "1\n",
      "End number:\n",
      "60\n",
      "Type the interval range of numbers on the selected ticket. \n",
      "\n",
      "Start number:\n",
      "1\n",
      "End number:\n",
      "2\n",
      "Type the interval range of numbers on the selected ticket. \n",
      "\n",
      "Start number:\n"
     ]
    },
    {
     "ename": "KeyboardInterrupt",
     "evalue": "Interrupted by user",
     "output_type": "error",
     "traceback": [
      "\u001b[0;31m---------------------------------------------------------------------------\u001b[0m",
      "\u001b[0;31mKeyboardInterrupt\u001b[0m                         Traceback (most recent call last)",
      "\u001b[0;32m<ipython-input-33-9755350a21f9>\u001b[0m in \u001b[0;36m<module>\u001b[0;34m\u001b[0m\n\u001b[1;32m      6\u001b[0m \u001b[0;34m\u001b[0m\u001b[0m\n\u001b[1;32m      7\u001b[0m \u001b[0;31m#set the testsets to other variable to be handled\u001b[0m\u001b[0;34m\u001b[0m\u001b[0;34m\u001b[0m\u001b[0m\n\u001b[0;32m----> 8\u001b[0;31m \u001b[0mtst\u001b[0m \u001b[0;34m=\u001b[0m \u001b[0mtestsets\u001b[0m\u001b[0;34m(\u001b[0m\u001b[0mtests\u001b[0m\u001b[0;34m)\u001b[0m\u001b[0;34m\u001b[0m\u001b[0;34m\u001b[0m\u001b[0m\n\u001b[0m\u001b[1;32m      9\u001b[0m \u001b[0;31m#print(tst)\u001b[0m\u001b[0;34m\u001b[0m\u001b[0;34m\u001b[0m\u001b[0m\n",
      "\u001b[0;32m<ipython-input-32-89f0bc6dbf60>\u001b[0m in \u001b[0;36mtestsets\u001b[0;34m(tn)\u001b[0m\n\u001b[1;32m     11\u001b[0m     \u001b[0;32mwhile\u001b[0m \u001b[0mntest\u001b[0m \u001b[0;34m<\u001b[0m\u001b[0mtestn\u001b[0m\u001b[0;34m:\u001b[0m\u001b[0;34m\u001b[0m\u001b[0;34m\u001b[0m\u001b[0m\n\u001b[1;32m     12\u001b[0m         \u001b[0;32mif\u001b[0m \u001b[0mntest\u001b[0m \u001b[0;34m<\u001b[0m \u001b[0mtestn\u001b[0m\u001b[0;34m:\u001b[0m\u001b[0;34m\u001b[0m\u001b[0;34m\u001b[0m\u001b[0m\n\u001b[0;32m---> 13\u001b[0;31m             \u001b[0mnlist\u001b[0m\u001b[0;34m=\u001b[0m\u001b[0msetmaker\u001b[0m\u001b[0;34m(\u001b[0m\u001b[0;34m)\u001b[0m\u001b[0;34m\u001b[0m\u001b[0;34m\u001b[0m\u001b[0m\n\u001b[0m\u001b[1;32m     14\u001b[0m             \u001b[0msetofsets\u001b[0m\u001b[0;34m.\u001b[0m\u001b[0mappend\u001b[0m\u001b[0;34m(\u001b[0m\u001b[0mnlist\u001b[0m\u001b[0;34m)\u001b[0m\u001b[0;34m\u001b[0m\u001b[0;34m\u001b[0m\u001b[0m\n\u001b[1;32m     15\u001b[0m             \u001b[0mni\u001b[0m\u001b[0;34m=\u001b[0m\u001b[0mni\u001b[0m\u001b[0;34m+\u001b[0m\u001b[0;36m1\u001b[0m\u001b[0;34m\u001b[0m\u001b[0;34m\u001b[0m\u001b[0m\n",
      "\u001b[0;32m<ipython-input-30-88b9f0f911d9>\u001b[0m in \u001b[0;36msetmaker\u001b[0;34m()\u001b[0m\n\u001b[1;32m      6\u001b[0m \u001b[0;34m\u001b[0m\u001b[0m\n\u001b[1;32m      7\u001b[0m     \u001b[0mprint\u001b[0m\u001b[0;34m(\u001b[0m\u001b[0;34m\"Start number:\"\u001b[0m\u001b[0;34m)\u001b[0m\u001b[0;34m\u001b[0m\u001b[0;34m\u001b[0m\u001b[0m\n\u001b[0;32m----> 8\u001b[0;31m     \u001b[0mnln\u001b[0m\u001b[0;34m=\u001b[0m\u001b[0minput\u001b[0m\u001b[0;34m(\u001b[0m\u001b[0;34m)\u001b[0m\u001b[0;34m\u001b[0m\u001b[0;34m\u001b[0m\u001b[0m\n\u001b[0m\u001b[1;32m      9\u001b[0m     \u001b[0mnli\u001b[0m\u001b[0;34m=\u001b[0m\u001b[0mint\u001b[0m\u001b[0;34m(\u001b[0m\u001b[0mnln\u001b[0m\u001b[0;34m)\u001b[0m\u001b[0;34m\u001b[0m\u001b[0;34m\u001b[0m\u001b[0m\n\u001b[1;32m     10\u001b[0m \u001b[0;34m\u001b[0m\u001b[0m\n",
      "\u001b[0;32m/usr/lib/python3/dist-packages/ipykernel/kernelbase.py\u001b[0m in \u001b[0;36mraw_input\u001b[0;34m(self, prompt)\u001b[0m\n\u001b[1;32m    855\u001b[0m                 \u001b[0;34m\"raw_input was called, but this frontend does not support input requests.\"\u001b[0m\u001b[0;34m\u001b[0m\u001b[0;34m\u001b[0m\u001b[0m\n\u001b[1;32m    856\u001b[0m             )\n\u001b[0;32m--> 857\u001b[0;31m         return self._input_request(str(prompt),\n\u001b[0m\u001b[1;32m    858\u001b[0m             \u001b[0mself\u001b[0m\u001b[0;34m.\u001b[0m\u001b[0m_parent_ident\u001b[0m\u001b[0;34m,\u001b[0m\u001b[0;34m\u001b[0m\u001b[0;34m\u001b[0m\u001b[0m\n\u001b[1;32m    859\u001b[0m             \u001b[0mself\u001b[0m\u001b[0;34m.\u001b[0m\u001b[0m_parent_header\u001b[0m\u001b[0;34m,\u001b[0m\u001b[0;34m\u001b[0m\u001b[0;34m\u001b[0m\u001b[0m\n",
      "\u001b[0;32m/usr/lib/python3/dist-packages/ipykernel/kernelbase.py\u001b[0m in \u001b[0;36m_input_request\u001b[0;34m(self, prompt, ident, parent, password)\u001b[0m\n\u001b[1;32m    899\u001b[0m             \u001b[0;32mexcept\u001b[0m \u001b[0mKeyboardInterrupt\u001b[0m\u001b[0;34m:\u001b[0m\u001b[0;34m\u001b[0m\u001b[0;34m\u001b[0m\u001b[0m\n\u001b[1;32m    900\u001b[0m                 \u001b[0;31m# re-raise KeyboardInterrupt, to truncate traceback\u001b[0m\u001b[0;34m\u001b[0m\u001b[0;34m\u001b[0m\u001b[0m\n\u001b[0;32m--> 901\u001b[0;31m                 \u001b[0;32mraise\u001b[0m \u001b[0mKeyboardInterrupt\u001b[0m\u001b[0;34m(\u001b[0m\u001b[0;34m\"Interrupted by user\"\u001b[0m\u001b[0;34m)\u001b[0m \u001b[0;32mfrom\u001b[0m \u001b[0;32mNone\u001b[0m\u001b[0;34m\u001b[0m\u001b[0;34m\u001b[0m\u001b[0m\n\u001b[0m\u001b[1;32m    902\u001b[0m             \u001b[0;32mexcept\u001b[0m \u001b[0mException\u001b[0m \u001b[0;32mas\u001b[0m \u001b[0me\u001b[0m\u001b[0;34m:\u001b[0m\u001b[0;34m\u001b[0m\u001b[0;34m\u001b[0m\u001b[0m\n\u001b[1;32m    903\u001b[0m                 \u001b[0mself\u001b[0m\u001b[0;34m.\u001b[0m\u001b[0mlog\u001b[0m\u001b[0;34m.\u001b[0m\u001b[0mwarning\u001b[0m\u001b[0;34m(\u001b[0m\u001b[0;34m\"Invalid Message:\"\u001b[0m\u001b[0;34m,\u001b[0m \u001b[0mexc_info\u001b[0m\u001b[0;34m=\u001b[0m\u001b[0;32mTrue\u001b[0m\u001b[0;34m)\u001b[0m\u001b[0;34m\u001b[0m\u001b[0;34m\u001b[0m\u001b[0m\n",
      "\u001b[0;31mKeyboardInterrupt\u001b[0m: Interrupted by user"
     ]
    }
   ],
   "source": [
    "#number of tests to be done\n",
    "#tests = 10000\n",
    "print(\"Type the number of tests to run at each round:\")\n",
    "Tests = input()\n",
    "tests = int(Tests)\n",
    "\n",
    "#set the testsets to other variable to be handled\n",
    "tst = testsets(tests)\n",
    "#print(tst)"
   ]
  },
  {
   "cell_type": "code",
   "execution_count": 38,
   "id": "abandoned-joshua",
   "metadata": {},
   "outputs": [],
   "source": [
    "#define a function to take a probability average from the tests obtained with testsets \n",
    "def avg(tst):\n",
    "    n=0\n",
    "    avgcd= {}\n",
    "    while n <= 60:\n",
    "        for i in tst:\n",
    "            for a in i:\n",
    "                counts = {a:i.count(i) for a in i}\n",
    "                n=n+1\n",
    "    count = Counter(chain.from_iterable(tst))\n",
    "#    print(\"Count occurrence keys:\",count)        \n",
    "    return count"
   ]
  },
  {
   "cell_type": "code",
   "execution_count": 39,
   "id": "thirty-shame",
   "metadata": {},
   "outputs": [],
   "source": [
    "#change avg fucntion to variable for handling\n",
    "#avgc = avg()"
   ]
  },
  {
   "cell_type": "code",
   "execution_count": 40,
   "id": "interstate-destination",
   "metadata": {},
   "outputs": [],
   "source": [
    "#sorted_d = dict( sorted(avgc.items(), key=operator.itemgetter(1),reverse=True))\n",
    "#print('Dictionary in descending order by value : ',sorted_d)"
   ]
  },
  {
   "cell_type": "code",
   "execution_count": 45,
   "id": "reflected-indian",
   "metadata": {},
   "outputs": [],
   "source": [
    "#sort results to in descent order\n",
    "def testtests(tn):\n",
    "    #number of set of tests to run\n",
    "    print(\"Type the number of chunks to run:\")\n",
    "    avgn=input()\n",
    "    avgn=int(avgn)\n",
    "    ni=0\n",
    "    #set of sets of range  = tests\n",
    "    setfsets=[]\n",
    "    #loop to compose a set made of tests * avgn\n",
    "    print(\"Total number of sets: \" + str(tn*avgn))\n",
    "    print(\"Starting task...\")\n",
    "    while ni < avgn:\n",
    "        setfsets.append(testsets(tests))\n",
    "        ni=ni+1\n",
    "    if ni == avgn:\n",
    "        na=[]\n",
    "        #creates a set composed of all numbers on the larger set\n",
    "        for i in setfsets:\n",
    "            for a in i:\n",
    "                na.append(a)\n",
    "        avgc=avg(na)\n",
    "        sorted_d = dict( sorted(avgc.items(), key=operator.itemgetter(1),reverse=True))\n",
    "        print('Dictionary in descending order by value : ',sorted_d)"
   ]
  },
  {
   "cell_type": "code",
   "execution_count": 46,
   "id": "historical-certificate",
   "metadata": {},
   "outputs": [
    {
     "name": "stdout",
     "output_type": "stream",
     "text": [
      "Type the number of chunks to run:\n",
      "10\n",
      "Total number of sets: 1000\n",
      "Starting task...\n",
      "Dictionary in descending order by value :  {49: 905, 23: 903, 10: 901, 39: 899, 9: 897, 57: 896, 36: 895, 29: 893, 11: 891, 52: 890, 54: 890, 31: 889, 53: 889, 58: 889, 24: 888, 27: 888, 32: 888, 47: 888, 17: 887, 19: 887, 14: 886, 55: 886, 6: 884, 37: 884, 15: 884, 2: 883, 25: 883, 46: 883, 16: 883, 51: 882, 12: 881, 3: 881, 5: 880, 41: 880, 7: 879, 35: 879, 13: 878, 50: 878, 18: 878, 42: 877, 20: 876, 21: 876, 4: 873, 22: 872, 38: 872, 43: 872, 33: 871, 34: 871, 45: 871, 26: 871, 1: 868, 30: 867, 48: 867, 44: 866, 59: 866, 28: 865, 40: 865, 56: 865, 8: 864}\n"
     ]
    }
   ],
   "source": [
    "testtests(tests)"
   ]
  },
  {
   "cell_type": "code",
   "execution_count": null,
   "id": "continent-award",
   "metadata": {},
   "outputs": [],
   "source": []
  },
  {
   "cell_type": "code",
   "execution_count": null,
   "id": "educated-remains",
   "metadata": {},
   "outputs": [],
   "source": []
  }
 ],
 "metadata": {
  "kernelspec": {
   "display_name": "Python 3",
   "language": "python",
   "name": "python3"
  },
  "language_info": {
   "codemirror_mode": {
    "name": "ipython",
    "version": 3
   },
   "file_extension": ".py",
   "mimetype": "text/x-python",
   "name": "python",
   "nbconvert_exporter": "python",
   "pygments_lexer": "ipython3",
   "version": "3.9.7"
  }
 },
 "nbformat": 4,
 "nbformat_minor": 5
}
