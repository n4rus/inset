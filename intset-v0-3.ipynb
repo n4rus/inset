{
 "cells": [
  {
   "cell_type": "code",
   "execution_count": 4,
   "id": "cellular-williams",
   "metadata": {},
   "outputs": [],
   "source": [
    "#!/bin/env python"
   ]
  },
  {
   "cell_type": "code",
   "execution_count": 5,
   "id": "simplified-cutting",
   "metadata": {},
   "outputs": [],
   "source": [
    "import random\n",
    "import operator\n",
    "from random import choice\n",
    "from collections import Counter\n",
    "from itertools import chain"
   ]
  },
  {
   "cell_type": "markdown",
   "id": "narrow-developer",
   "metadata": {},
   "source": [
    "# Lotery Intset\n",
    "### This code is intended to simulate numbers in lotery tickets and their pronability of winning"
   ]
  },
  {
   "cell_type": "code",
   "execution_count": 6,
   "id": "tested-cologne",
   "metadata": {},
   "outputs": [],
   "source": [
    "#desired integers tested leave as zero\n",
    "n=0\n",
    "#amount of desired integers in the ticket\n",
    "un=6"
   ]
  },
  {
   "cell_type": "code",
   "execution_count": 7,
   "id": "imperial-saint",
   "metadata": {},
   "outputs": [],
   "source": [
    "#loop to random select numbers from intlist and append them to intset\n",
    "def setmaker():\n",
    "    #number of integers in the following set\n",
    "    nlist=60\n",
    "    \n",
    "    #integers counter for the following set\n",
    "    nl=1\n",
    "\n",
    "    #set of integers\n",
    "    mainlist=[]\n",
    "\n",
    "    #set construction\n",
    "    while nl < nlist:\n",
    "        if nl <= nlist:\n",
    "            i=int(nl)\n",
    "            mainlist.append(i)\n",
    "            nl=nl+1\n",
    "        if nl > nlist:\n",
    "            break\n",
    "            return mainlist\n",
    "            print(mainlist)    \n",
    "    #loop counter\n",
    "    n=0\n",
    "    un=6\n",
    "    #create a new list to manipulate on the while\n",
    "    intlist=mainlist\n",
    "    intset=[]\n",
    "    #loop to choose numbers and remove then from the next draw\n",
    "    while n <= un:\n",
    "        if n <= un:\n",
    "            choice = random.choice(intlist)\n",
    "            intset.append(choice)\n",
    "            intlist.remove(choice)\n",
    "            n=n+1\n",
    "        if n > un:\n",
    "            return mainlist\n",
    "            print(intset)\n",
    "            break"
   ]
  },
  {
   "cell_type": "code",
   "execution_count": 8,
   "id": "tropical-scottish",
   "metadata": {},
   "outputs": [
    {
     "name": "stdout",
     "output_type": "stream",
     "text": [
      "[1, 2, 3, 5, 6, 7, 8, 9, 10, 11, 12, 13, 15, 16, 17, 18, 19, 21, 22, 23, 24, 25, 26, 27, 28, 29, 30, 31, 32, 34, 35, 36, 38, 40, 41, 42, 44, 45, 46, 47, 48, 49, 50, 51, 52, 53, 54, 55, 56, 57, 58, 59]\n"
     ]
    }
   ],
   "source": [
    "#print set to verify the function\n",
    "print(setmaker())"
   ]
  },
  {
   "cell_type": "code",
   "execution_count": 9,
   "id": "theoretical-survey",
   "metadata": {},
   "outputs": [],
   "source": [
    "#define a function to make a sequence of sets and append them to a dictionary\n",
    "def testsets(tn):\n",
    "    #set the number of tests to run\n",
    "    testn=tn\n",
    "    \n",
    "    #set the algorithm to take averages\n",
    "    ntest=0\n",
    "\n",
    "    setofsets=[]\n",
    "    ni = 0\n",
    "    while ntest <=testn:\n",
    "        if ntest <= testn:\n",
    "            nlist=setmaker()\n",
    "            setofsets.append(nlist)\n",
    "            ni=ni+1\n",
    "            ntest=ntest+1\n",
    "        if ntest > testn:\n",
    "            return setofsets\n",
    "            break"
   ]
  },
  {
   "cell_type": "code",
   "execution_count": 13,
   "id": "distributed-killing",
   "metadata": {},
   "outputs": [],
   "source": [
    "#number of tests to be done\n",
    "tests = 100\n",
    "\n",
    "#set the testsets to other variable to be handled\n",
    "tst = testsets(tests)\n",
    "#print(tst)"
   ]
  },
  {
   "cell_type": "code",
   "execution_count": 14,
   "id": "abandoned-joshua",
   "metadata": {},
   "outputs": [],
   "source": [
    "#define a function to take a probability average from the tests obtained with testsets \n",
    "def avg():\n",
    "    n=0\n",
    "    avgcd= {}\n",
    "    while n <= 60:\n",
    "        for i in tst:\n",
    "            for a in i:\n",
    "                counts = {a:i.count(i) for a in i}\n",
    "                n=n+1\n",
    "    count = Counter(chain.from_iterable(tst))\n",
    "#    print(\"Count occurrence keys:\",count)        \n",
    "    return count"
   ]
  },
  {
   "cell_type": "code",
   "execution_count": 15,
   "id": "thirty-shame",
   "metadata": {},
   "outputs": [],
   "source": [
    "#change avg fucntion to variable for handling\n",
    "avgc = avg()"
   ]
  },
  {
   "cell_type": "code",
   "execution_count": 16,
   "id": "reflected-indian",
   "metadata": {},
   "outputs": [
    {
     "name": "stdout",
     "output_type": "stream",
     "text": [
      "Dictionary in descending order by value :  {19: 97, 9: 96, 22: 96, 41: 95, 58: 95, 1: 94, 12: 94, 35: 94, 11: 93, 44: 93, 53: 93, 4: 91, 6: 91, 13: 91, 16: 91, 28: 91, 39: 91, 40: 91, 42: 91, 45: 91, 51: 91, 52: 91, 14: 90, 15: 90, 25: 90, 49: 90, 33: 90, 3: 89, 21: 89, 48: 89, 54: 89, 57: 89, 23: 89, 43: 89, 17: 88, 26: 88, 29: 88, 38: 88, 47: 88, 50: 88, 55: 88, 30: 88, 18: 87, 36: 87, 7: 86, 8: 86, 10: 86, 27: 86, 37: 86, 2: 86, 20: 85, 46: 85, 34: 84, 56: 84, 5: 83, 32: 82, 59: 82, 24: 80, 31: 79}\n"
     ]
    }
   ],
   "source": [
    "#sort results to in descent order\n",
    "sorted_d = dict( sorted(avgc.items(), key=operator.itemgetter(1),reverse=True))\n",
    "print('Dictionary in descending order by value : ',sorted_d)"
   ]
  },
  {
   "cell_type": "code",
   "execution_count": null,
   "id": "continent-award",
   "metadata": {},
   "outputs": [],
   "source": []
  },
  {
   "cell_type": "code",
   "execution_count": null,
   "id": "educated-remains",
   "metadata": {},
   "outputs": [],
   "source": []
  }
 ],
 "metadata": {
  "kernelspec": {
   "display_name": "Python 3",
   "language": "python",
   "name": "python3"
  },
  "language_info": {
   "codemirror_mode": {
    "name": "ipython",
    "version": 3
   },
   "file_extension": ".py",
   "mimetype": "text/x-python",
   "name": "python",
   "nbconvert_exporter": "python",
   "pygments_lexer": "ipython3",
   "version": "3.9.7"
  }
 },
 "nbformat": 4,
 "nbformat_minor": 5
}
