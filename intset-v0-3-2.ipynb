{
 "cells": [
  {
   "cell_type": "code",
   "execution_count": 1,
   "id": "cellular-williams",
   "metadata": {},
   "outputs": [],
   "source": [
    "#!/bin/env python"
   ]
  },
  {
   "cell_type": "code",
   "execution_count": 1,
   "id": "simplified-cutting",
   "metadata": {},
   "outputs": [],
   "source": [
    "import random\n",
    "import operator\n",
    "from random import choice\n",
    "from collections import Counter\n",
    "from itertools import chain"
   ]
  },
  {
   "cell_type": "markdown",
   "id": "narrow-developer",
   "metadata": {},
   "source": [
    "# Lotery Intset\n",
    "### This code is intended to simulate numbers in lotery tickets and their pronability of winning"
   ]
  },
  {
   "cell_type": "code",
   "execution_count": 12,
   "id": "tested-cologne",
   "metadata": {},
   "outputs": [
    {
     "name": "stdout",
     "output_type": "stream",
     "text": [
      "Set the amount of integers to be drawn on each round:\n",
      "6\n"
     ]
    }
   ],
   "source": [
    "#desired integers tested leave as zero\n",
    "#n=0\n",
    "#amount of desired integers in the ticket\n",
    "#print(\"Set the amount of integers to be drawn on each round:\")\n",
    "#uni=input()\n",
    "#un=6 for mega-sena\n",
    "#un=int(uni)"
   ]
  },
  {
   "cell_type": "code",
   "execution_count": 66,
   "id": "purple-sleep",
   "metadata": {},
   "outputs": [
    {
     "name": "stdout",
     "output_type": "stream",
     "text": [
      "Type the interval range of numbers on the selected ticket.\n",
      "Start number:\n",
      "1\n",
      "End number:\n",
      "60\n",
      "Range of numbers in the ticket 1 - 60  \n",
      "\n",
      "Type the interval range of numbers on each bet.\n",
      "Start number:\n",
      "1\n",
      "End number:\n",
      "6\n",
      "Range of numbers on each bet: 1 - 6 \n",
      "\n",
      "Type the number of tests to run at each round:\n",
      "100\n"
     ]
    }
   ],
   "source": [
    "print(\"Type the interval range of numbers on the selected ticket.\")\n",
    "\n",
    "#initial integer on the set)\n",
    "print(\"Start number:\")\n",
    "nln=input()\n",
    "nli=int(nln)\n",
    "\n",
    "#number of integers in the following set (end)\n",
    "print(\"End number:\")\n",
    "inlist=input()\n",
    "nlist=int(inlist)\n",
    "\n",
    "#range:\n",
    "print(\"Range of numbers in the ticket\", nln, \"-\", inlist, \" \\n\")\n",
    "\n",
    "\n",
    "#loop counter\n",
    "#print(\"Set the amount of integers to be drawn on each round:\")\n",
    "#amount of integers in each bet:\n",
    "print(\"Type the interval range of numbers on each bet.\")\n",
    "#n=0\n",
    "print(\"Start number:\")\n",
    "ni=input()\n",
    "n=int(ni)\n",
    "\n",
    "#un=6\n",
    "print(\"End number:\")\n",
    "uni=input()\n",
    "un=int(uni)\n",
    "\n",
    "#betrange\n",
    "print(\"Range of numbers on each bet:\", ni, \"-\", uni, \"\\n\")\n",
    "\n",
    "#number of tests to be done\n",
    "#tests = 10000\n",
    "print(\"Type the number of tests to run at each round:\")\n",
    "Tests = input()\n",
    "tests = int(Tests)"
   ]
  },
  {
   "cell_type": "code",
   "execution_count": 67,
   "id": "imperial-saint",
   "metadata": {},
   "outputs": [],
   "source": [
    "#loop to random select numbers from intlist and append them to intset\n",
    "def setmaker(nli, inlist, un, n):\n",
    "    #number of integers in the following set\n",
    "    nlist=int(inlist)\n",
    "    \n",
    "    #integers counter for the following set\n",
    "    nl=int(nli)\n",
    "\n",
    "    #set of integers\n",
    "    mainlist=[]\n",
    "\n",
    "    #set construction\n",
    "    while nl <= nlist:\n",
    "        if nl <= nlist:\n",
    "            i=int(nl)\n",
    "            mainlist.append(i)\n",
    "            nl=nl+1\n",
    "        if nl > nlist:\n",
    "            break\n",
    "            return mainlist\n",
    "            print(mainlist)    \n",
    "    #loop counter\n",
    "    #n=0\n",
    "    #un=6\n",
    "    #create a new list to manipulate on the while\n",
    "    intlist=mainlist\n",
    "    intset=[]\n",
    "    #loop to choose numbers and remove then from the next draw\n",
    "    while n <= un:\n",
    "        if n <= un:\n",
    "            choice = random.choice(intlist)\n",
    "            intset.append(choice)\n",
    "            intlist.remove(choice)\n",
    "            n=n+1\n",
    "        if n > un:\n",
    "            return mainlist\n",
    "            print(intset)\n",
    "            break"
   ]
  },
  {
   "cell_type": "code",
   "execution_count": 68,
   "id": "tropical-scottish",
   "metadata": {},
   "outputs": [
    {
     "name": "stdout",
     "output_type": "stream",
     "text": [
      "Interval range: [1, 2, 3, 4, 5, 6, 7, 8, 9, 10, 11, 12, 13, 14, 15, 16, 17, 19, 20, 21, 22, 23, 24, 25, 26, 28, 29, 30, 31, 32, 33, 34, 35, 36, 38, 39, 40, 41, 42, 43, 44, 45, 46, 47, 48, 50, 51, 52, 54, 55, 57, 58, 59, 60]\n"
     ]
    }
   ],
   "source": [
    "#print set to verify the function\n",
    "print(\"Interval range:\", setmaker(nli, inlist, un, n), end='\\n')"
   ]
  },
  {
   "cell_type": "code",
   "execution_count": 69,
   "id": "theoretical-survey",
   "metadata": {},
   "outputs": [],
   "source": [
    "#define a function to make a sequence of sets and append them to a dictionary\n",
    "def testsets(tn):\n",
    "    #set the number of tests to run\n",
    "    testn=tn\n",
    "    \n",
    "    #set the algorithm to take averages\n",
    "    ntest=0\n",
    "\n",
    "    setofsets=[]\n",
    "    ni = 0\n",
    "    while ntest <testn:\n",
    "        if ntest < testn:\n",
    "            nlist=setmaker(nli, inlist, un, n)\n",
    "            setofsets.append(nlist)\n",
    "            ni=ni+1\n",
    "            ntest=ntest+1\n",
    "        if ntest == testn:\n",
    "            return setofsets\n",
    "            break"
   ]
  },
  {
   "cell_type": "code",
   "execution_count": 70,
   "id": "distributed-killing",
   "metadata": {},
   "outputs": [],
   "source": [
    "#set the testsets to other variable to be handled\n",
    "tst = testsets(tests)\n",
    "#print(tst)"
   ]
  },
  {
   "cell_type": "code",
   "execution_count": 71,
   "id": "abandoned-joshua",
   "metadata": {},
   "outputs": [],
   "source": [
    "#define a function to take a probability average from the tests obtained with testsets \n",
    "def avg(tst):\n",
    "    n=0\n",
    "    avgcd= {}\n",
    "    while n <= 60:\n",
    "        for i in tst:\n",
    "            for a in i:\n",
    "                counts = {a:i.count(i) for a in i}\n",
    "                n=n+1\n",
    "    count = Counter(chain.from_iterable(tst))\n",
    "#    print(\"Count occurrence keys:\",count)        \n",
    "    return count"
   ]
  },
  {
   "cell_type": "code",
   "execution_count": 72,
   "id": "thirty-shame",
   "metadata": {},
   "outputs": [],
   "source": [
    "#change avg fucntion to variable for handling\n",
    "#avgc = avg()"
   ]
  },
  {
   "cell_type": "code",
   "execution_count": 73,
   "id": "interstate-destination",
   "metadata": {},
   "outputs": [],
   "source": [
    "#sorted_d = dict( sorted(avgc.items(), key=operator.itemgetter(1),reverse=True))\n",
    "#print('Dictionary in descending order by value : ',sorted_d)"
   ]
  },
  {
   "cell_type": "code",
   "execution_count": 75,
   "id": "reflected-indian",
   "metadata": {},
   "outputs": [],
   "source": [
    "#sort results to in descent order\n",
    "def testtests(tn):\n",
    "    #number of set of tests to run\n",
    "    print(\"Type the number of chunks to run:\")\n",
    "    avgn=input()\n",
    "    avgn=int(avgn)\n",
    "    ni=0\n",
    "    #set of sets of range  = tests\n",
    "    setfsets=[]\n",
    "    #loop to compose a set made of tests * avgn\n",
    "    print(\"Total number of sets: \" + str(tn*avgn))\n",
    "    print(\"Starting task...\")\n",
    "    while ni < avgn:\n",
    "        setfsets.append(testsets(tests))\n",
    "        ni=ni+1\n",
    "    if ni == avgn:\n",
    "        na=[]\n",
    "        #creates a set composed of all numbers on the larger set\n",
    "        for i in setfsets:\n",
    "            for a in i:\n",
    "                na.append(a)\n",
    "        avgc=avg(na)\n",
    "        sorted_d = dict( sorted(avgc.items(), key=operator.itemgetter(1),reverse=True))\n",
    "        print('Dictionary in descending order by value : ',sorted_d)"
   ]
  },
  {
   "cell_type": "code",
   "execution_count": null,
   "id": "historical-certificate",
   "metadata": {},
   "outputs": [
    {
     "name": "stdout",
     "output_type": "stream",
     "text": [
      "Type the number of chunks to run:\n",
      "100\n",
      "Total number of sets: 10000\n",
      "Starting task...\n"
     ]
    }
   ],
   "source": [
    "testtests(tests)"
   ]
  },
  {
   "cell_type": "code",
   "execution_count": null,
   "id": "continent-award",
   "metadata": {},
   "outputs": [],
   "source": []
  },
  {
   "cell_type": "code",
   "execution_count": null,
   "id": "educated-remains",
   "metadata": {},
   "outputs": [],
   "source": []
  }
 ],
 "metadata": {
  "kernelspec": {
   "display_name": "Python 3",
   "language": "python",
   "name": "python3"
  },
  "language_info": {
   "codemirror_mode": {
    "name": "ipython",
    "version": 3
   },
   "file_extension": ".py",
   "mimetype": "text/x-python",
   "name": "python",
   "nbconvert_exporter": "python",
   "pygments_lexer": "ipython3",
   "version": "3.9.7"
  }
 },
 "nbformat": 4,
 "nbformat_minor": 5
}
