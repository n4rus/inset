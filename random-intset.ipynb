{
 "cells": [
  {
   "cell_type": "code",
   "execution_count": 2,
   "id": "industrial-chamber",
   "metadata": {},
   "outputs": [],
   "source": [
    "#!/bin/env python"
   ]
  },
  {
   "cell_type": "code",
   "execution_count": 7,
   "id": "urban-characteristic",
   "metadata": {},
   "outputs": [],
   "source": [
    "import random\n",
    "from random import choice"
   ]
  },
  {
   "cell_type": "code",
   "execution_count": 17,
   "id": "wired-correction",
   "metadata": {},
   "outputs": [
    {
     "name": "stdout",
     "output_type": "stream",
     "text": [
      "[1, 2, 3, 5, 7, 8, 10, 11, 12, 13, 14, 15, 16, 17, 18, 19, 20, 21, 22, 23, 24, 25, 26, 27, 28, 29, 30, 31, 32, 33, 34, 35, 37, 38, 39, 40, 41, 42, 43, 44, 45, 46, 47, 48, 50, 51, 52, 54, 55, 56, 57, 58, 59]\n"
     ]
    }
   ],
   "source": [
    "#number of integers in the following set\n",
    "nlist=60\n",
    "\n",
    "#integers counter for the following set\n",
    "nl=1\n",
    "\n",
    "#set of integers\n",
    "mainlist=[]\n",
    "\n",
    "#set construction\n",
    "while nl < nlist:\n",
    "    if nl <= nlist:\n",
    "        i=int(nl)\n",
    "        mainlist.append(i)\n",
    "        nl=nl+1\n",
    "    if nl > nlist:\n",
    "        break\n",
    "print(intlist)    "
   ]
  },
  {
   "cell_type": "code",
   "execution_count": 28,
   "id": "editorial-flavor",
   "metadata": {},
   "outputs": [],
   "source": [
    "#desired integers tested\n",
    "n=0\n",
    "#amount of desired integers\n",
    "un=6"
   ]
  },
  {
   "cell_type": "code",
   "execution_count": 34,
   "id": "supported-cherry",
   "metadata": {},
   "outputs": [],
   "source": [
    "#loop to random select numbers from intlist and append them to intset\n",
    "def setmaker(un, mainlist):\n",
    "    #loop counter\n",
    "    n=0\n",
    "    #create a neww list to manipulate on the while\n",
    "    intlist=mainlist\n",
    "    intset=[]\n",
    "    while n < un:\n",
    "        if n <= un:\n",
    "            choice = random.choice(intlist)\n",
    "            intset.append(choice)\n",
    "            intlist.remove(choice)\n",
    "            n=n+1\n",
    "            return n, intset\n",
    "        if n > un:\n",
    "            print(intset)\n",
    "            break"
   ]
  },
  {
   "cell_type": "code",
   "execution_count": null,
   "id": "public-demographic",
   "metadata": {},
   "outputs": [],
   "source": [
    "setmaker(n, un, intlist)"
   ]
  },
  {
   "cell_type": "code",
   "execution_count": null,
   "id": "double-rehabilitation",
   "metadata": {},
   "outputs": [],
   "source": [
    "#set the number of tests to run\n",
    "testn=100\n",
    "\n",
    "#set the algorithm to take averages\n",
    "ntest=0\n",
    "while ntest < testn:\n",
    "    if ntest <= testn:\n",
    "        \n",
    "        mainlist.append(i)\n",
    "        nl=nl+1\n",
    "    if nl > nlist:\n",
    "        break\n",
    "print(intlist)"
   ]
  },
  {
   "cell_type": "code",
   "execution_count": null,
   "id": "satisfactory-survey",
   "metadata": {},
   "outputs": [],
   "source": []
  }
 ],
 "metadata": {
  "kernelspec": {
   "display_name": "Python 3",
   "language": "python",
   "name": "python3"
  },
  "language_info": {
   "codemirror_mode": {
    "name": "ipython",
    "version": 3
   },
   "file_extension": ".py",
   "mimetype": "text/x-python",
   "name": "python",
   "nbconvert_exporter": "python",
   "pygments_lexer": "ipython3",
   "version": "3.9.7"
  }
 },
 "nbformat": 4,
 "nbformat_minor": 5
}
